{
 "cells": [
  {
   "cell_type": "markdown",
   "id": "802ba448",
   "metadata": {},
   "source": [
    "# Online Gradient Boosting Decision Tree (OnlineGBDT) Demo\n",
    "This notebook shows how to train, update, and evaluate the custom `DecisionTree` and `OnlineGBDT` classes.\n",
    "\n",
    "👉 *Make sure the module that defines `DecisionTree` and `OnlineGBDT` is importable (e.g. saved as **`online_gbdt.py`** in the same folder or installed as a package).*"
   ]
  },
  {
   "cell_type": "code",
   "execution_count": 1,
   "id": "5512785a",
   "metadata": {},
   "outputs": [
    {
     "name": "stdout",
     "output_type": "stream",
     "text": [
      "Files and directories in the current directory:\n",
      "online_gbdt_demo.ipynb\n",
      "online_gbdt_demo.html\n"
     ]
    }
   ],
   "source": [
    "import os\n",
    "import sys\n",
    "\n",
    "# Get the current working directory\n",
    "current_directory = os.getcwd()\n",
    "\n",
    "# List all files and directories in the current directory\n",
    "files_and_directories = os.listdir(current_directory)\n",
    "\n",
    "# Print the list of files and directories\n",
    "print(\"Files and directories in the current directory:\")\n",
    "for item in files_and_directories:\n",
    "    print(item)\n"
   ]
  },
  {
   "cell_type": "code",
   "execution_count": 2,
   "id": "a66221e9",
   "metadata": {},
   "outputs": [],
   "source": [
    "import numpy as np\n",
    "import matplotlib.pyplot as plt\n",
    "\n",
    "from fogo.online_gbdt import OnlineGBDT  # or paste the class definitions here"
   ]
  },
  {
   "cell_type": "markdown",
   "id": "fa5d1c9f",
   "metadata": {},
   "source": [
    "The first step is to generate a synthetic dataset for the purpose of testing.\n",
    "\n",
    "This will be replaced with a full production dataset with non-simulated variance. But our goal is just to see if the package can approximate the data-generating process."
   ]
  },
  {
   "cell_type": "code",
   "execution_count": 3,
   "id": "a66221e9",
   "metadata": {},
   "outputs": [
    {
     "name": "stdout",
     "output_type": "stream",
     "text": [
      "Dataset shape: (200, 5)\n"
     ]
    }
   ],
   "source": [
    "# Create a simple synthetic regression dataset\n",
    "np.random.seed(42)\n",
    "N = 200\n",
    "X = np.random.randn(N, 5)\n",
    "true_coef = np.array([3, -2, 0, 1, 2])\n",
    "y = X @ true_coef + np.random.randn(N) * 0.5\n",
    "print('Dataset shape:', X.shape)"
   ]
  },
  {
   "cell_type": "markdown",
   "id": "43856f71",
   "metadata": {},
   "source": [
    "**Experiment:** prototype a Grid-search like algorithm to find the optimal hyperparameter combination."
   ]
  },
  {
   "cell_type": "code",
   "execution_count": 4,
   "id": "9b902066",
   "metadata": {},
   "outputs": [],
   "source": [
    "def grid_search(param_grid, X, y, model):\n",
    "    best_score = -1\n",
    "    best_params = None\n",
    "    for params in ParameterGrid(param_grid):\n",
    "        model.set_params(**params)\n",
    "        print(f\"Testing parameters: {params}\")\n",
    "        scores = cross_val_score(model, X, y, cv=5)\n",
    "        print(f\"Scores: {scores}\")\n",
    "        if scores.mean() > best_score:\n",
    "            best_score = scores.mean()\n",
    "            best_params = params\n",
    "    return best_params, best_score"
   ]
  },
  {
   "cell_type": "code",
   "execution_count": 5,
   "id": "96869986",
   "metadata": {},
   "outputs": [
    {
     "name": "stdout",
     "output_type": "stream",
     "text": [
      "Testing parameters: {'learning_rate': 0.01, 'max_depth': 2, 'n_estimators': 10}\n",
      "Scores: [ 0.06406227  0.09130551 -0.26975799  0.09184405  0.06863587]\n",
      "Testing parameters: {'learning_rate': 0.01, 'max_depth': 2, 'n_estimators': 25}\n",
      "Scores: [ 0.1541167   0.21010453 -0.11609707  0.20783298  0.15164145]\n",
      "Testing parameters: {'learning_rate': 0.01, 'max_depth': 2, 'n_estimators': 50}\n",
      "Scores: [0.2579459  0.33185518 0.08135654 0.36114264 0.26993126]\n",
      "Testing parameters: {'learning_rate': 0.01, 'max_depth': 5, 'n_estimators': 10}\n",
      "Scores: [ 0.08578356  0.10559291 -0.23641345  0.12150343  0.10486102]\n",
      "Testing parameters: {'learning_rate': 0.01, 'max_depth': 5, 'n_estimators': 25}\n",
      "Scores: [ 0.21182791  0.25472883 -0.04930196  0.2650724   0.23179607]\n",
      "Testing parameters: {'learning_rate': 0.01, 'max_depth': 5, 'n_estimators': 50}\n",
      "Scores: [0.37540557 0.42028826 0.19079652 0.4351972  0.37306793]\n",
      "Testing parameters: {'learning_rate': 0.01, 'max_depth': 10, 'n_estimators': 10}\n",
      "Scores: [ 0.10780231  0.10848209 -0.22453449  0.1313975   0.11130279]\n",
      "Testing parameters: {'learning_rate': 0.01, 'max_depth': 10, 'n_estimators': 25}\n",
      "Scores: [ 0.25144335  0.23664854 -0.04374281  0.28155472  0.2422755 ]\n",
      "Testing parameters: {'learning_rate': 0.01, 'max_depth': 10, 'n_estimators': 50}\n",
      "Scores: [0.4167471  0.35564278 0.15233348 0.44015842 0.38554805]\n",
      "Testing parameters: {'learning_rate': 0.05, 'max_depth': 2, 'n_estimators': 10}\n",
      "Scores: [0.25885801 0.33059973 0.08562772 0.36308907 0.27498655]\n",
      "Testing parameters: {'learning_rate': 0.05, 'max_depth': 2, 'n_estimators': 25}\n",
      "Scores: [0.47794916 0.56249153 0.41965419 0.61555465 0.51843594]\n",
      "Testing parameters: {'learning_rate': 0.05, 'max_depth': 2, 'n_estimators': 50}\n",
      "Scores: [0.66566144 0.72746774 0.65345502 0.79484917 0.68554704]\n",
      "Testing parameters: {'learning_rate': 0.05, 'max_depth': 5, 'n_estimators': 10}\n",
      "Scores: [0.38689208 0.4230468  0.19622084 0.44785194 0.37526739]\n",
      "Testing parameters: {'learning_rate': 0.05, 'max_depth': 5, 'n_estimators': 25}\n",
      "Scores: [0.65620304 0.62832635 0.62678917 0.70897687 0.60117903]\n",
      "Testing parameters: {'learning_rate': 0.05, 'max_depth': 5, 'n_estimators': 50}\n",
      "Scores: [0.79516905 0.70263376 0.77252515 0.82245948 0.72459552]\n",
      "Testing parameters: {'learning_rate': 0.05, 'max_depth': 10, 'n_estimators': 10}\n",
      "Scores: [0.42199801 0.35865373 0.15820359 0.44534699 0.39002253]\n",
      "Testing parameters: {'learning_rate': 0.05, 'max_depth': 10, 'n_estimators': 25}\n",
      "Scores: [0.63122866 0.43513228 0.36445299 0.60916453 0.54581054]\n",
      "Testing parameters: {'learning_rate': 0.05, 'max_depth': 10, 'n_estimators': 50}\n",
      "Scores: [0.69340014 0.38988852 0.39269776 0.62936889 0.57415985]\n",
      "Testing parameters: {'learning_rate': 0.1, 'max_depth': 2, 'n_estimators': 10}\n",
      "Scores: [0.41309889 0.49475227 0.33053215 0.56353686 0.46161599]\n",
      "Testing parameters: {'learning_rate': 0.1, 'max_depth': 2, 'n_estimators': 25}\n",
      "Scores: [0.67801116 0.71892489 0.65852808 0.80289556 0.70412893]\n",
      "Testing parameters: {'learning_rate': 0.1, 'max_depth': 2, 'n_estimators': 50}\n",
      "Scores: [0.81404062 0.81392752 0.81405242 0.89351181 0.83676745]\n",
      "Testing parameters: {'learning_rate': 0.1, 'max_depth': 5, 'n_estimators': 10}\n",
      "Scores: [0.59646184 0.57650175 0.56889067 0.65509289 0.55113283]\n",
      "Testing parameters: {'learning_rate': 0.1, 'max_depth': 5, 'n_estimators': 25}\n",
      "Scores: [0.78635333 0.69737684 0.79518397 0.79863326 0.73186216]\n",
      "Testing parameters: {'learning_rate': 0.1, 'max_depth': 5, 'n_estimators': 50}\n",
      "Scores: [0.83021629 0.7100929  0.82699999 0.83332474 0.77236647]\n",
      "Testing parameters: {'learning_rate': 0.1, 'max_depth': 10, 'n_estimators': 10}\n",
      "Scores: [0.59560613 0.43602255 0.33691404 0.58808977 0.52361524]\n",
      "Testing parameters: {'learning_rate': 0.1, 'max_depth': 10, 'n_estimators': 25}\n",
      "Scores: [0.69670148 0.39256232 0.39787053 0.63006207 0.57600038]\n",
      "Testing parameters: {'learning_rate': 0.1, 'max_depth': 10, 'n_estimators': 50}\n",
      "Scores: [0.70742253 0.3612572  0.39418843 0.62095812 0.57335639]\n",
      "✅ Best MSE: 0.8345 with {'learning_rate': 0.1, 'max_depth': 2, 'n_estimators': 50}\n"
     ]
    }
   ],
   "source": [
    "from itertools import product\n",
    "from sklearn.metrics import mean_squared_error\n",
    "# import train test split package\n",
    "from sklearn.model_selection import train_test_split\n",
    "import numpy as np\n",
    "import time as t\n",
    "\n",
    "# split the dataset into training and test sets\n",
    "X_train, X_val, y_train, y_val = train_test_split(X, y, test_size=0.2, random_state=42)\n",
    "\n",
    "param_grid = {\n",
    "    'n_estimators': [10, 25, 50],\n",
    "    'learning_rate': [0.01, 0.05, 0.1],\n",
    "    'max_depth': [2, 5, 10],\n",
    "} # initialize the grid of parameters\n",
    "\n",
    "# dev note: this should be converted to accept a list of parameters\n",
    "\n",
    "from sklearn.model_selection import ParameterGrid\n",
    "from sklearn.model_selection import cross_val_score\n",
    "# Initialize the model\n",
    "model = OnlineGBDT()\n",
    "\n",
    "best_params, best_score = grid_search(param_grid, X_train, y_train, model)\n",
    "\n",
    "print(f\"✅ Best MSE: {best_score:.4f} with {best_params}\")\n"
   ]
  },
  {
   "cell_type": "code",
   "execution_count": 6,
   "id": "aa9194af",
   "metadata": {},
   "outputs": [
    {
     "name": "stdout",
     "output_type": "stream",
     "text": [
      "Training completed with best parameters: {'learning_rate': 0.1, 'max_depth': 2, 'n_estimators': 50}\n"
     ]
    }
   ],
   "source": [
    "model = OnlineGBDT(n_estimators=best_params['n_estimators'],\n",
    "                   learning_rate=best_params['learning_rate'],\n",
    "                   max_depth=best_params['max_depth'])\n",
    "\n",
    "model.fit(X_train, y_train)\n",
    "print(f\"Training completed with best parameters: {best_params}\")"
   ]
  },
  {
   "cell_type": "code",
   "execution_count": 7,
   "id": "a1a92c62",
   "metadata": {},
   "outputs": [
    {
     "name": "stdout",
     "output_type": "stream",
     "text": [
      "Prediction before update: 1.535196677899395\n",
      "Prediction after update : 1.5388026971752407\n"
     ]
    }
   ],
   "source": [
    "# --- Incremental learning example (fit_one) ---\n",
    "x_new = np.random.randn(5)\n",
    "y_new = x_new @ true_coef + np.random.randn() * 0.5\n",
    "print('Prediction before update:', model.predict([x_new])[0])\n",
    "model.fit_one(x_new, y_new)\n",
    "print('Prediction after update :', model.predict([x_new])[0])"
   ]
  },
  {
   "cell_type": "code",
   "execution_count": 8,
   "id": "9fad977a",
   "metadata": {},
   "outputs": [
    {
     "name": "stdout",
     "output_type": "stream",
     "text": [
      "Prediction after decrement: -0.24617684436838352\n"
     ]
    }
   ],
   "source": [
    "# --- Decremental learning example ---\n",
    "residual = y_new - model.predict([x_new])[0]\n",
    "model.decrement(x_new, residual)\n",
    "print('Prediction after decrement:', model.predict([x_new])[0])"
   ]
  },
  {
   "cell_type": "code",
   "execution_count": 9,
   "id": "85564c05",
   "metadata": {},
   "outputs": [
    {
     "data": {
      "image/png": "[encoded data removed]",
      "text/plain": [
       "<Figure size 640x480 with 1 Axes>"
      ]
     },
     "metadata": {},
     "output_type": "display_data"
    }
   ],
   "source": [
    "# Visualise predictions vs. ground truth\n",
    "plt.scatter(y_val, model.predict(X_val), alpha=0.5, color = 'skyblue')\n",
    "plt.xlabel('True Values')\n",
    "plt.ylabel('Predictions')\n",
    "plt.title('Predictions vs True Values')\n",
    "plt.plot([y_val.min(), y_val.max()], [y_val.min(), y_val.max()], '-', lw=2, color = '#17a3f5')\n",
    "plt.show()"
   ]
  },
  {
   "cell_type": "markdown",
   "id": "a4ea907e",
   "metadata": {},
   "source": [
    "## Running the Unit Tests\n",
    "Before we move onto formalized testing, we need to confirm the baseline performance of the package.\n",
    "\n",
    "This includes the `batch_fit()` capability to add a batch of datapoints at once, the `incremental_add()` function to ensure that the method can add a datapoint incrementally, and the `incremental_delete()` to ensure the ensemble can modify itself in-place. For now, we want to push through some boilerplate unit tests to make sure the functions work as expected.\n",
    "\n",
    "## Running the Experiments\n",
    "The next step would be to run more formalized testing that evaluates our hypotheses. This includes comparing the `OnlineGBDT` estimator against the naive method of retraining an ensemble model from-scratch, comparing the `OnlineGBDT` estimator against the more efficient LightGBM and FastBDT packages, and possibly measuring the performance of our method against Bayesian methods like variational inference of the unlearned posterior parameter distribution."
   ]
  },
  {
   "cell_type": "markdown",
   "id": "e102bed9",
   "metadata": {},
   "source": [
    "### **Unit Test 1:** Batch-Fitting a Small Dataset\n",
    "\n",
    "In this test, we test the ability for the Fogo estimator to fit a small batch of data. \n",
    "\n",
    "The baseline product should be an estimator that returns a prediction for every observation of training data. The estimator should also perform better as an ensemble than the naive model that implements a mean regression.\n",
    "\n",
    "It's worth noting that we don't expect the model to perform well until its have been appropriately tuned. We do so using the `GridSearch`."
   ]
  },
  {
   "cell_type": "code",
   "execution_count": 21,
   "id": "dd3a50bf",
   "metadata": {},
   "outputs": [],
   "source": [
    "def test_batch_fit_small_dataset():\n",
    "    \"\"\"\n",
    "    Batch‑fit smoke test:\n",
    "      1. generate a simple y = 2x dataset + noise\n",
    "      2. fit OnlineGBDT on the batch\n",
    "      3. ensure predictions are finite and MSE is lower than naive baseline\n",
    "    \"\"\"\n",
    "    # 1. synthetic data\n",
    "    rng = np.random.RandomState(0)\n",
    "    X = rng.uniform(0, 1, size=(50, 1))\n",
    "    y = 2 * X.squeeze() + rng.normal(0, 0.05, 50)  # linear with noise\n",
    "\n",
    "    # perform grid search for hyperparameters\n",
    "    from sklearn.model_selection import ParameterGrid, cross_val_score\n",
    "    from fogo.online_gbdt import OnlineGBDT\n",
    "    from sklearn.model_selection import train_test_split\n",
    "    from sklearn.metrics import mean_squared_error\n",
    "    X_train, X_val, y_train, y_val = train_test_split(X, y, test_size=0.2, random_state=42)\n",
    "    param_grid = {\n",
    "        'n_estimators': [10, 25, 50],\n",
    "        'learning_rate': [0.01, 0.05, 0.1],\n",
    "        'max_depth': [2, 5, 10],\n",
    "    }\n",
    "    model = OnlineGBDT()\n",
    "    best_params, best_score = grid_search(param_grid, X_train, y_train, model)\n",
    "\n",
    "    # 2. model with fixed hyper‑params\n",
    "    model = OnlineGBDT(\n",
    "        n_estimators=best_params['n_estimators'],\n",
    "        learning_rate=best_params['learning_rate'],\n",
    "        max_depth=best_params['max_depth']\n",
    "    )\n",
    "\n",
    "    model.fit(X, y)\n",
    "    \n",
    "    # 3. predictions + basic quality\n",
    "    preds = model.predict(X)\n",
    "    assert len(preds) == len(y)\n",
    "    assert np.all(np.isfinite(preds)), \"Predictions contain non‑finite values\"\n",
    "\n",
    "    mse_model  = np.mean((preds - y) ** 2)\n",
    "    mse_naive  = np.mean((np.mean(y) - y) ** 2)\n",
    "\n",
    "\n",
    "    # model should beat naive mean baseline\n",
    "    assert mse_model < mse_naive, \"Model MSE did not improve over naive baseline\""
   ]
  },
  {
   "cell_type": "code",
   "execution_count": 22,
   "id": "2c332b40",
   "metadata": {},
   "outputs": [
    {
     "name": "stdout",
     "output_type": "stream",
     "text": [
      "Testing parameters: {'learning_rate': 0.01, 'max_depth': 2, 'n_estimators': 10}\n",
      "Scores: [ -4.57234767  -0.58610293 -13.87198785  -4.9709149   -4.23191973]\n",
      "Testing parameters: {'learning_rate': 0.01, 'max_depth': 2, 'n_estimators': 25}\n",
      "Scores: [-3.10552858 -0.14633377 -9.88428177 -3.23639524 -2.94345937]\n",
      "Testing parameters: {'learning_rate': 0.01, 'max_depth': 2, 'n_estimators': 50}\n",
      "Scores: [-1.4373102   0.32900809 -5.49317928 -1.30017198 -1.44626642]\n",
      "Testing parameters: {'learning_rate': 0.01, 'max_depth': 5, 'n_estimators': 10}\n",
      "Scores: [ -4.56092535  -0.5633328  -13.90610748  -4.9359464   -4.14972832]\n",
      "Testing parameters: {'learning_rate': 0.01, 'max_depth': 5, 'n_estimators': 25}\n",
      "Scores: [-3.05357691 -0.12942911 -9.92605642 -3.19352768 -2.7883857 ]\n",
      "Testing parameters: {'learning_rate': 0.01, 'max_depth': 5, 'n_estimators': 50}\n",
      "Scores: [-1.39217914  0.34125689 -5.49079643 -1.30362573 -1.26715766]\n",
      "Testing parameters: {'learning_rate': 0.01, 'max_depth': 10, 'n_estimators': 10}\n",
      "Scores: [ -4.56352199  -0.56281943 -13.90645232  -4.9359464   -4.14922202]\n",
      "Testing parameters: {'learning_rate': 0.01, 'max_depth': 10, 'n_estimators': 25}\n",
      "Scores: [-3.05880538 -0.1282318  -9.92675296 -3.19352768 -2.78509893]\n",
      "Testing parameters: {'learning_rate': 0.01, 'max_depth': 10, 'n_estimators': 50}\n",
      "Scores: [-1.3966828   0.3449578  -5.49178051 -1.30372889 -1.26152978]\n",
      "Testing parameters: {'learning_rate': 0.05, 'max_depth': 2, 'n_estimators': 10}\n",
      "Scores: [-1.37722475  0.35099145 -5.34843158 -1.22318245 -1.38077663]\n",
      "Testing parameters: {'learning_rate': 0.05, 'max_depth': 2, 'n_estimators': 25}\n",
      "Scores: [ 0.46334845  0.85303488 -0.2989094   0.7439999   0.45859639]\n",
      "Testing parameters: {'learning_rate': 0.05, 'max_depth': 2, 'n_estimators': 50}\n",
      "Scores: [0.85768172 0.93356078 0.89574173 0.97107477 0.95579607]\n",
      "Testing parameters: {'learning_rate': 0.05, 'max_depth': 5, 'n_estimators': 10}\n",
      "Scores: [-1.33989053  0.35613885 -5.35158802 -1.24562013 -1.21918138]\n",
      "Testing parameters: {'learning_rate': 0.05, 'max_depth': 5, 'n_estimators': 25}\n",
      "Scores: [ 0.50925145  0.85719271 -0.24831138  0.72799997  0.54840537]\n",
      "Testing parameters: {'learning_rate': 0.05, 'max_depth': 5, 'n_estimators': 50}\n",
      "Scores: [0.87306757 0.93096884 0.91242646 0.97011683 0.96786938]\n",
      "Testing parameters: {'learning_rate': 0.05, 'max_depth': 10, 'n_estimators': 10}\n",
      "Scores: [-1.34490484  0.35951445 -5.35257836 -1.24579439 -1.21361875]\n",
      "Testing parameters: {'learning_rate': 0.05, 'max_depth': 10, 'n_estimators': 25}\n",
      "Scores: [ 0.51041415  0.86101822 -0.25052289  0.7279202   0.55219714]\n",
      "Testing parameters: {'learning_rate': 0.05, 'max_depth': 10, 'n_estimators': 50}\n",
      "Scores: [0.87416384 0.93078573 0.91197768 0.96962945 0.96811793]\n",
      "Testing parameters: {'learning_rate': 0.1, 'max_depth': 2, 'n_estimators': 10}\n",
      "Scores: [ 0.17740327  0.77617344 -1.05354425  0.5163888   0.15260736]\n",
      "Testing parameters: {'learning_rate': 0.1, 'max_depth': 2, 'n_estimators': 25}\n",
      "Scores: [0.86082945 0.93226126 0.90856351 0.96861928 0.96003585]\n",
      "Testing parameters: {'learning_rate': 0.1, 'max_depth': 2, 'n_estimators': 50}\n",
      "Scores: [0.85555334 0.91979834 0.95323503 0.87853277 0.99107291]\n",
      "Testing parameters: {'learning_rate': 0.1, 'max_depth': 5, 'n_estimators': 10}\n",
      "Scores: [ 0.23284422  0.78711114 -1.03579964  0.45866761  0.27288332]\n",
      "Testing parameters: {'learning_rate': 0.1, 'max_depth': 5, 'n_estimators': 25}\n",
      "Scores: [0.87452183 0.93034538 0.92185888 0.96640838 0.97175975]\n",
      "Testing parameters: {'learning_rate': 0.1, 'max_depth': 5, 'n_estimators': 50}\n",
      "Scores: [0.85606744 0.91056257 0.95087544 0.87119786 0.98911604]\n",
      "Testing parameters: {'learning_rate': 0.1, 'max_depth': 10, 'n_estimators': 10}\n",
      "Scores: [ 0.23407266  0.79118859 -1.03809718  0.45870111  0.27730385]\n",
      "Testing parameters: {'learning_rate': 0.1, 'max_depth': 10, 'n_estimators': 25}\n",
      "Scores: [0.8754775  0.93011701 0.92140559 0.96581926 0.97186782]\n",
      "Testing parameters: {'learning_rate': 0.1, 'max_depth': 10, 'n_estimators': 50}\n",
      "Scores: [0.85616256 0.91035608 0.95087927 0.87131324 0.98898348]\n"
     ]
    }
   ],
   "source": [
    "# Run the test\n",
    "test_batch_fit_small_dataset()"
   ]
  },
  {
   "cell_type": "markdown",
   "id": "9d5d8a03",
   "metadata": {},
   "source": [
    "### **Unit Test 2:** Incremental Learning in an Online Setting\n",
    "\n",
    "The second UT will test the capabilities of the `incremental_add()` function. If it works as it should, the model will adjust its weights in-place without an issue of catastrophic performance degradation."
   ]
  },
  {
   "cell_type": "code",
   "execution_count": 15,
   "id": "2fdedd8d",
   "metadata": {},
   "outputs": [],
   "source": [
    "def test_incremental_add():\n",
    "    \"\"\"\n",
    "    Incremental add smoke test:\n",
    "      1. generate a simple y = 2x dataset + noise\n",
    "      2. fit OnlineGBDT on the batch\n",
    "      3. incrementally add data and check predictions\n",
    "    \"\"\"\n",
    "    # 1. synthetic data\n",
    "    rng = np.random.RandomState(0)\n",
    "    X = rng.uniform(0, 1, size=(50, 1))\n",
    "    y = 2 * X.squeeze() + rng.normal(0, 0.05, 50)  # linear with noise\n",
    "\n",
    "    # 2. model with fixed hyper‑params\n",
    "    model = OnlineGBDT(n_estimators=5, learning_rate=0.1)\n",
    "    model.fit(X, y)\n",
    "\n",
    "    # 3. incrementally add one data point at a time\n",
    "    for i in range(10):\n",
    "        X_new = rng.uniform(0, 1, size=(1, 1))\n",
    "        y_new = 2 * X_new.squeeze() + rng.normal(0, 0.05, 1)  # linear with noise\n",
    "        model.fit(X_new, y_new)\n",
    "        \n",
    "    # Check that the model's predictions on the new data are consistent with the old data\n",
    "    assert np.allclose(model.predict(X_new), model.predict(X_new)), \"Model predictions on new data are inconsistent\"\n",
    "    # Check that the model's predictions on the old data are consistent with the new data\n",
    "    assert np.allclose(model.predict(X), model.predict(X)), \"Model predictions on old data are inconsistent\""
   ]
  },
  {
   "cell_type": "code",
   "execution_count": 16,
   "id": "f83d6d07",
   "metadata": {},
   "outputs": [],
   "source": [
    "test_incremental_add()"
   ]
  },
  {
   "cell_type": "markdown",
   "id": "b6357497",
   "metadata": {},
   "source": [
    "### **Unit Test 3:** Incremental Deletion\n",
    "\n",
    "The final basic test will evaluate `Fogo`'s ability to unlearn a datapoint incrementally.\n",
    "\n",
    "This `decrement()` function would accept a single observation and modify the model in-place to simulate the tree-splits without rebuilding from scratch.\n",
    "\n",
    "Later implementations of hypothesis testing will formally test the runtime of this incremental delete against the naive baseline."
   ]
  },
  {
   "cell_type": "code",
   "execution_count": 17,
   "id": "89f41b81",
   "metadata": {},
   "outputs": [],
   "source": [
    "def test_incremental_delete():\n",
    "    \"\"\"\n",
    "    Incremental delete smoke test:\n",
    "      1. generate a simple y = 2x dataset + noise\n",
    "      2. fit OnlineGBDT on the batch\n",
    "      3. incrementally delete data and check predictions\n",
    "    \"\"\"\n",
    "    # 1. synthetic data\n",
    "    rng = np.random.RandomState(0)\n",
    "    X = rng.uniform(0, 1, size=(50, 1))\n",
    "    y = 2 * X.squeeze() + rng.normal(0, 0.05, 50)  # linear with noise\n",
    "\n",
    "    # 2. model with fixed hyper-params\n",
    "    model = OnlineGBDT(n_estimators=5, learning_rate=0.1)\n",
    "    model.fit(X, y)\n",
    "\n",
    "    # 3. incrementally delete one data point at a time\n",
    "    for i in range(10):\n",
    "        X_delete = X[i:i+1]\n",
    "        y_delete = y[i:i+1]\n",
    "        model.decrement(X_delete, y_delete)\n",
    "\n",
    "    # Check that the model's predictions on the remaining data are consistent\n",
    "    assert np.all(np.isfinite(model.predict(X))), \"Predictions contain non-finite values after deletion\"\n",
    "    assert len(model.predict(X)) == len(y), \"Model did not correctly handle incremental deletion\""
   ]
  },
  {
   "cell_type": "code",
   "execution_count": 18,
   "id": "daf24856",
   "metadata": {},
   "outputs": [],
   "source": [
    "test_incremental_delete()"
   ]
  },
  {
   "cell_type": "markdown",
   "id": "615c5a60",
   "metadata": {},
   "source": [
    "## Formal Experimentation\n",
    "\n",
    "The next step is to formally test our hypotheses to assess the model's performance and runtime efficiency.</br>We'll use the following hypotheses for the analysis:</br>\n",
    "\n",
    "> $H_{1}$: the Fogo model can unlearn a single sample 10x more effiently than the naive cold-start solution.</br>\n",
    "> $H_{2}$: the unlearned model significantly decreases the model's predictive performance on unlearned data.</br>\n",
    "> $H_{3}$: after unlearning, the unlearned model's accuracy stays within 5% of the original, learned model."
   ]
  },
  {
   "cell_type": "code",
   "execution_count": null,
   "id": "a7e75c63",
   "metadata": {},
   "outputs": [],
   "source": [
    "# "
   ]
  }
 ],
 "metadata": {
  "kernelspec": {
   "display_name": ".venv",
   "language": "python",
   "name": "python3"
  },
  "language_info": {
   "codemirror_mode": {
    "name": "ipython",
    "version": 3
   },
   "file_extension": ".py",
   "mimetype": "text/x-python",
   "name": "python",
   "nbconvert_exporter": "python",
   "pygments_lexer": "ipython3",
   "version": "3.10.12"
  }
 },
 "nbformat": 4,
 "nbformat_minor": 5
}
