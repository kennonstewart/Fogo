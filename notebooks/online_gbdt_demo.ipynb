{
 "cells": [
  {
   "cell_type": "markdown",
   "id": "802ba448",
   "metadata": {},
   "source": [
    "# Online Gradient Boosting Decision Tree (OnlineGBDT) Demo\n",
    "This notebook shows how to train, update, and evaluate the custom `DecisionTree` and `OnlineGBDT` classes.\n",
    "\n",
    "👉 *Make sure the module that defines `DecisionTree` and `OnlineGBDT` is importable (e.g. saved as **`online_gbdt.py`** in the same folder or installed as a package).*"
   ]
  },
  {
   "cell_type": "code",
   "execution_count": null,
   "id": "a66221e9",
   "metadata": {},
   "outputs": [],
   "source": [
    "import numpy as np\n",
    "import matplotlib.pyplot as plt\n",
    "\n",
    "from online_gbdt import DecisionTree, OnlineGBDT  # or paste the class definitions here"
   ]
  },
  {
   "cell_type": "code",
   "execution_count": null,
   "id": "07a218d7",
   "metadata": {},
   "outputs": [],
   "source": [
    "# Create a simple synthetic regression dataset\n",
    "np.random.seed(42)\n",
    "N = 200\n",
    "X = np.random.randn(N, 5)\n",
    "true_coef = np.array([3, -2, 0, 1, 2])\n",
    "y = X @ true_coef + np.random.randn(N) * 0.5\n",
    "print('Dataset shape:', X.shape)"
   ]
  },
  {
   "cell_type": "code",
   "execution_count": null,
   "id": "1457ec8b",
   "metadata": {},
   "outputs": [],
   "source": [
    "# Train the gradient‑boosting ensemble\n",
    "model = OnlineGBDT(n_estimators=10, learning_rate=0.1, max_depth=3)\n",
    "model.fit(X, y)\n",
    "print('Initial training complete.')"
   ]
  },
  {
   "cell_type": "code",
   "execution_count": null,
   "id": "901e2b4e",
   "metadata": {},
   "outputs": [],
   "source": [
    "# Evaluate training MSE\n",
    "pred = model.predict(X)\n",
    "mse = np.mean((y - pred) ** 2)\n",
    "print(f'Mean squared error: {mse:.4f}')"
   ]
  },
  {
   "cell_type": "code",
   "execution_count": null,
   "id": "a1a92c62",
   "metadata": {},
   "outputs": [],
   "source": [
    "# --- Incremental learning example (fit_one) ---\n",
    "x_new = np.random.randn(5)\n",
    "y_new = x_new @ true_coef + np.random.randn() * 0.5\n",
    "print('Prediction before update:', model.predict([x_new])[0])\n",
    "model.fit_one(x_new, y_new)\n",
    "print('Prediction after update :', model.predict([x_new])[0])"
   ]
  },
  {
   "cell_type": "code",
   "execution_count": null,
   "id": "9fad977a",
   "metadata": {},
   "outputs": [],
   "source": [
    "# --- Decremental learning example ---\n",
    "residual = y_new - model.predict([x_new])[0]\n",
    "model.decrement(x_new, residual)\n",
    "print('Prediction after decrement:', model.predict([x_new])[0])"
   ]
  },
  {
   "cell_type": "code",
   "execution_count": null,
   "id": "85564c05",
   "metadata": {},
   "outputs": [],
   "source": [
    "# Visualise predictions vs. ground truth\n",
    "plt.figure(figsize=(5,5))\n",
    "plt.scatter(y, pred, alpha=0.6)\n",
    "plt.plot([y.min(), y.max()], [y.min(), y.max()])\n",
    "plt.xlabel('True')\n",
    "plt.ylabel('Predicted')\n",
    "plt.title('OnlineGBDT predictions')\n",
    "plt.show()"
   ]
  }
 ],
 "metadata": {},
 "nbformat": 4,
 "nbformat_minor": 5
}
