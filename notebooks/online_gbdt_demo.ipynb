{
 "cells": [
  {
   "cell_type": "markdown",
   "id": "802ba448",
   "metadata": {},
   "source": [
    "# Online Gradient Boosting Decision Tree (OnlineGBDT) Demo\n",
    "This notebook shows how to train, update, and evaluate the custom `DecisionTree` and `OnlineGBDT` classes.\n",
    "\n",
    "👉 *Make sure the module that defines `DecisionTree` and `OnlineGBDT` is importable (e.g. saved as **`online_gbdt.py`** in the same folder or installed as a package).*"
   ]
  },
  {
   "cell_type": "code",
   "execution_count": 3,
   "id": "5512785a",
   "metadata": {},
   "outputs": [
    {
     "name": "stdout",
     "output_type": "stream",
     "text": [
      "Files and directories in the current directory:\n",
      "online_gbdt_demo.ipynb\n"
     ]
    }
   ],
   "source": [
    "import os\n",
    "import sys\n",
    "\n",
    "# Get the current working directory\n",
    "current_directory = os.getcwd()\n",
    "\n",
    "# List all files and directories in the current directory\n",
    "files_and_directories = os.listdir(current_directory)\n",
    "\n",
    "# Print the list of files and directories\n",
    "print(\"Files and directories in the current directory:\")\n",
    "for item in files_and_directories:\n",
    "    print(item)\n"
   ]
  },
  {
   "cell_type": "code",
   "execution_count": 4,
   "id": "a66221e9",
   "metadata": {},
   "outputs": [
    {
     "ename": "ModuleNotFoundError",
     "evalue": "No module named 'fogo'",
     "output_type": "error",
     "traceback": [
      "\u001b[0;31m---------------------------------------------------------------------------\u001b[0m",
      "\u001b[0;31mModuleNotFoundError\u001b[0m                       Traceback (most recent call last)",
      "Cell \u001b[0;32mIn[4], line 4\u001b[0m\n\u001b[1;32m      1\u001b[0m \u001b[38;5;28;01mimport\u001b[39;00m\u001b[38;5;250m \u001b[39m\u001b[38;5;21;01mnumpy\u001b[39;00m\u001b[38;5;250m \u001b[39m\u001b[38;5;28;01mas\u001b[39;00m\u001b[38;5;250m \u001b[39m\u001b[38;5;21;01mnp\u001b[39;00m\n\u001b[1;32m      2\u001b[0m \u001b[38;5;28;01mimport\u001b[39;00m\u001b[38;5;250m \u001b[39m\u001b[38;5;21;01mmatplotlib\u001b[39;00m\u001b[38;5;21;01m.\u001b[39;00m\u001b[38;5;21;01mpyplot\u001b[39;00m\u001b[38;5;250m \u001b[39m\u001b[38;5;28;01mas\u001b[39;00m\u001b[38;5;250m \u001b[39m\u001b[38;5;21;01mplt\u001b[39;00m\n\u001b[0;32m----> 4\u001b[0m \u001b[38;5;28;01mfrom\u001b[39;00m\u001b[38;5;250m \u001b[39m\u001b[38;5;21;01mfogo\u001b[39;00m\u001b[38;5;21;01m.\u001b[39;00m\u001b[38;5;21;01monline_gbdt\u001b[39;00m\u001b[38;5;250m \u001b[39m\u001b[38;5;28;01mimport\u001b[39;00m DecisionTree, OnlineGBDT  \u001b[38;5;66;03m# or paste the class definitions here\u001b[39;00m\n",
      "\u001b[0;31mModuleNotFoundError\u001b[0m: No module named 'fogo'"
     ]
    }
   ],
   "source": [
    "import numpy as np\n",
    "import matplotlib.pyplot as plt\n",
    "\n",
    "from fogo.online_gbdt import DecisionTree, OnlineGBDT  # or paste the class definitions here"
   ]
  },
  {
   "cell_type": "code",
   "execution_count": null,
   "id": "a66221e9",
   "metadata": {},
   "outputs": [],
   "source": [
    "# Create a simple synthetic regression dataset\n",
    "np.random.seed(42)\n",
    "N = 200\n",
    "X = np.random.randn(N, 5)\n",
    "true_coef = np.array([3, -2, 0, 1, 2])\n",
    "y = X @ true_coef + np.random.randn(N) * 0.5\n",
    "print('Dataset shape:', X.shape)"
   ]
  },
  {
   "cell_type": "code",
   "execution_count": null,
   "id": "1457ec8b",
   "metadata": {},
   "outputs": [],
   "source": [
    "# Train the gradient‑boosting ensemble\n",
    "model = OnlineGBDT(n_estimators=10, learning_rate=0.1, max_depth=3)\n",
    "model.fit(X, y)\n",
    "print('Initial training complete.')"
   ]
  },
  {
   "cell_type": "code",
   "execution_count": null,
   "id": "901e2b4e",
   "metadata": {},
   "outputs": [],
   "source": [
    "# Evaluate training MSE\n",
    "pred = model.predict(X)\n",
    "mse = np.mean((y - pred) ** 2)\n",
    "print(f'Mean squared error: {mse:.4f}')"
   ]
  },
  {
   "cell_type": "code",
   "execution_count": null,
   "id": "a1a92c62",
   "metadata": {},
   "outputs": [],
   "source": [
    "# --- Incremental learning example (fit_one) ---\n",
    "x_new = np.random.randn(5)\n",
    "y_new = x_new @ true_coef + np.random.randn() * 0.5\n",
    "print('Prediction before update:', model.predict([x_new])[0])\n",
    "model.fit_one(x_new, y_new)\n",
    "print('Prediction after update :', model.predict([x_new])[0])"
   ]
  },
  {
   "cell_type": "code",
   "execution_count": null,
   "id": "9fad977a",
   "metadata": {},
   "outputs": [],
   "source": [
    "# --- Decremental learning example ---\n",
    "residual = y_new - model.predict([x_new])[0]\n",
    "model.decrement(x_new, residual)\n",
    "print('Prediction after decrement:', model.predict([x_new])[0])"
   ]
  },
  {
   "cell_type": "code",
   "execution_count": null,
   "id": "85564c05",
   "metadata": {},
   "outputs": [],
   "source": [
    "# Visualise predictions vs. ground truth\n",
    "plt.figure(figsize=(5,5))\n",
    "plt.scatter(y, pred, alpha=0.6)\n",
    "plt.plot([y.min(), y.max()], [y.min(), y.max()])\n",
    "plt.xlabel('True')\n",
    "plt.ylabel('Predicted')\n",
    "plt.title('OnlineGBDT predictions')\n",
    "plt.show()"
   ]
  }
 ],
 "metadata": {
  "kernelspec": {
   "display_name": "Python 3",
   "language": "python",
   "name": "python3"
  },
  "language_info": {
   "codemirror_mode": {
    "name": "ipython",
    "version": 3
   },
   "file_extension": ".py",
   "mimetype": "text/x-python",
   "name": "python",
   "nbconvert_exporter": "python",
   "pygments_lexer": "ipython3",
   "version": "3.10.12"
  }
 },
 "nbformat": 4,
 "nbformat_minor": 5
}
