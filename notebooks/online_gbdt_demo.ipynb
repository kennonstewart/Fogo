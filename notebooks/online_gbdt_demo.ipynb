{
 "cells": [
  {
   "cell_type": "markdown",
   "id": "802ba448",
   "metadata": {},
   "source": [
    "# Online Gradient Boosting Decision Tree (OnlineGBDT) Demo\n",
    "This notebook shows how to train, update, and evaluate the custom `DecisionTree` and `OnlineGBDT` classes.\n",
    "\n",
    "👉 *Make sure the module that defines `DecisionTree` and `OnlineGBDT` is importable (e.g. saved as **`online_gbdt.py`** in the same folder or installed as a package).*"
   ]
  },
  {
   "cell_type": "code",
   "execution_count": 1,
   "id": "5512785a",
   "metadata": {},
   "outputs": [
    {
     "name": "stdout",
     "output_type": "stream",
     "text": [
      "Files and directories in the current directory:\n",
      "online_gbdt_demo.ipynb\n"
     ]
    }
   ],
   "source": [
    "import os\n",
    "import sys\n",
    "\n",
    "# Get the current working directory\n",
    "current_directory = os.getcwd()\n",
    "\n",
    "# List all files and directories in the current directory\n",
    "files_and_directories = os.listdir(current_directory)\n",
    "\n",
    "# Print the list of files and directories\n",
    "print(\"Files and directories in the current directory:\")\n",
    "for item in files_and_directories:\n",
    "    print(item)\n"
   ]
  },
  {
   "cell_type": "code",
   "execution_count": 2,
   "id": "a66221e9",
   "metadata": {},
   "outputs": [],
   "source": [
    "import numpy as np\n",
    "import matplotlib.pyplot as plt\n",
    "\n",
    "from fogo.online_gbdt import OnlineGBDT  # or paste the class definitions here"
   ]
  },
  {
   "cell_type": "code",
   "execution_count": 3,
   "id": "a66221e9",
   "metadata": {},
   "outputs": [
    {
     "name": "stdout",
     "output_type": "stream",
     "text": [
      "Dataset shape: (200, 5)\n"
     ]
    }
   ],
   "source": [
    "# Create a simple synthetic regression dataset\n",
    "np.random.seed(42)\n",
    "N = 200\n",
    "X = np.random.randn(N, 5)\n",
    "true_coef = np.array([3, -2, 0, 1, 2])\n",
    "y = X @ true_coef + np.random.randn(N) * 0.5\n",
    "print('Dataset shape:', X.shape)"
   ]
  },
  {
   "cell_type": "code",
   "execution_count": 4,
   "id": "1457ec8b",
   "metadata": {},
   "outputs": [
    {
     "name": "stdout",
     "output_type": "stream",
     "text": [
      "Initial training complete.\n"
     ]
    }
   ],
   "source": [
    "# Train the gradient‑boosting ensemble\n",
    "model = OnlineGBDT(n_estimators=10, learning_rate=0.1, max_depth=10)\n",
    "model.fit(X, y)\n",
    "print('Initial training complete.')"
   ]
  },
  {
   "cell_type": "markdown",
   "id": "43856f71",
   "metadata": {},
   "source": [
    "**Experiment:** prototype a Grid-search like algorithm to find the optimal hyperparameter combination.\n",
    "\n",
    "If the MSE is still awful then try checking the model architecture."
   ]
  },
  {
   "cell_type": "code",
   "execution_count": 6,
   "id": "96869986",
   "metadata": {},
   "outputs": [
    {
     "name": "stdout",
     "output_type": "stream",
     "text": [
      "Training with n_estimators=10, learning_rate=0.01, max_depth=2\n"
     ]
    },
    {
     "name": "stdout",
     "output_type": "stream",
     "text": [
      "Mean Squared Error: 12.9118\n",
      "Training with n_estimators=10, learning_rate=0.01, max_depth=5\n",
      "Mean Squared Error: 12.1519\n",
      "Training with n_estimators=10, learning_rate=0.01, max_depth=10\n",
      "Mean Squared Error: 12.0505\n",
      "Training with n_estimators=10, learning_rate=0.05, max_depth=2\n",
      "Mean Squared Error: 9.7655\n",
      "Training with n_estimators=10, learning_rate=0.05, max_depth=5\n",
      "Mean Squared Error: 7.3616\n",
      "Training with n_estimators=10, learning_rate=0.05, max_depth=10\n",
      "Mean Squared Error: 7.5040\n",
      "Training with n_estimators=10, learning_rate=0.1, max_depth=2\n",
      "Mean Squared Error: 7.4450\n",
      "Training with n_estimators=10, learning_rate=0.1, max_depth=5\n",
      "Mean Squared Error: 4.5045\n",
      "Training with n_estimators=10, learning_rate=0.1, max_depth=10\n",
      "Mean Squared Error: 5.6823\n",
      "Training with n_estimators=25, learning_rate=0.01, max_depth=2\n",
      "Mean Squared Error: 11.6458\n",
      "Training with n_estimators=25, learning_rate=0.01, max_depth=5\n",
      "Mean Squared Error: 9.9825\n",
      "Training with n_estimators=25, learning_rate=0.01, max_depth=10\n",
      "Mean Squared Error: 9.8513\n",
      "Training with n_estimators=25, learning_rate=0.05, max_depth=2\n",
      "Mean Squared Error: 6.4417\n",
      "Training with n_estimators=25, learning_rate=0.05, max_depth=5\n",
      "Mean Squared Error: 4.0415\n",
      "Training with n_estimators=25, learning_rate=0.05, max_depth=10\n",
      "Mean Squared Error: 5.4514\n",
      "Training with n_estimators=25, learning_rate=0.1, max_depth=2\n",
      "Mean Squared Error: 3.7587\n",
      "Training with n_estimators=25, learning_rate=0.1, max_depth=5\n",
      "Mean Squared Error: 2.4882\n",
      "Training with n_estimators=25, learning_rate=0.1, max_depth=10\n",
      "Mean Squared Error: 5.5445\n",
      "Training with n_estimators=50, learning_rate=0.01, max_depth=2\n",
      "Mean Squared Error: 9.8434\n",
      "Training with n_estimators=50, learning_rate=0.01, max_depth=5\n",
      "Mean Squared Error: 7.4363\n",
      "Training with n_estimators=50, learning_rate=0.01, max_depth=10\n",
      "Mean Squared Error: 7.5677\n",
      "Training with n_estimators=50, learning_rate=0.05, max_depth=2\n",
      "Mean Squared Error: 3.7986\n",
      "Training with n_estimators=50, learning_rate=0.05, max_depth=5\n",
      "Mean Squared Error: 2.5917\n",
      "Training with n_estimators=50, learning_rate=0.05, max_depth=10\n",
      "Mean Squared Error: 5.5265\n",
      "Training with n_estimators=50, learning_rate=0.1, max_depth=2\n",
      "Mean Squared Error: 2.0680\n",
      "Training with n_estimators=50, learning_rate=0.1, max_depth=5\n",
      "Mean Squared Error: 2.1193\n",
      "Training with n_estimators=50, learning_rate=0.1, max_depth=10\n",
      "Mean Squared Error: 5.7875\n",
      "✅ Best MSE: 2.0680 with {'n_estimators': 50, 'learning_rate': 0.1, 'max_depth': 2}\n"
     ]
    }
   ],
   "source": [
    "from itertools import product\n",
    "from sklearn.metrics import mean_squared_error\n",
    "# import train test split package\n",
    "from sklearn.model_selection import train_test_split\n",
    "import numpy as np\n",
    "\n",
    "# split the dataset into training and test sets\n",
    "X_train, X_val, y_train, y_val = train_test_split(X, y, test_size=0.2, random_state=42)\n",
    "\n",
    "param_grid = {\n",
    "    'n_estimators': [10, 25, 50],\n",
    "    'learning_rate': [0.01, 0.05, 0.1],\n",
    "    'max_depth': [2, 5, 10],\n",
    "}\n",
    "\n",
    "best_params = None\n",
    "best_score = float('inf')\n",
    "\n",
    "for n, lr, d in product(param_grid['n_estimators'],\n",
    "                        param_grid['learning_rate'],\n",
    "                        param_grid['max_depth']):\n",
    "\n",
    "    print(f\"Training with n_estimators={n}, learning_rate={lr}, max_depth={d}\")\n",
    "    \n",
    "    model = OnlineGBDT(n_estimators=n, learning_rate=lr, max_depth=d)\n",
    "    model.fit(X_train, y_train)\n",
    "    \n",
    "    preds = model.predict(X_val)\n",
    "    mse = mean_squared_error(y_val, preds)\n",
    "\n",
    "    print(f\"Mean Squared Error: {mse:.4f}\")\n",
    "    \n",
    "    if mse < best_score:\n",
    "        best_score = mse\n",
    "        best_params = {'n_estimators': n, 'learning_rate': lr, 'max_depth': d}\n",
    "\n",
    "print(f\"✅ Best MSE: {best_score:.4f} with {best_params}\")"
   ]
  },
  {
   "cell_type": "code",
   "execution_count": 7,
   "id": "aa9194af",
   "metadata": {},
   "outputs": [
    {
     "name": "stdout",
     "output_type": "stream",
     "text": [
      "Training completed with best parameters: {'n_estimators': 50, 'learning_rate': 0.1, 'max_depth': 2}\n"
     ]
    }
   ],
   "source": [
    "model = OnlineGBDT(n_estimators=best_params['n_estimators'],\n",
    "                   learning_rate=best_params['learning_rate'],\n",
    "                   max_depth=best_params['max_depth'])\n",
    "\n",
    "model.fit(X_train, y_train)\n",
    "print(f\"Training completed with best parameters: {best_params}\")"
   ]
  },
  {
   "cell_type": "markdown",
   "id": "fc9e1e6b",
   "metadata": {},
   "source": [
    "I'm honestly deeply concerned about how poorly this ensemble performs lmao. Can we try to add more layers?"
   ]
  },
  {
   "cell_type": "code",
   "execution_count": 8,
   "id": "901e2b4e",
   "metadata": {},
   "outputs": [
    {
     "name": "stdout",
     "output_type": "stream",
     "text": [
      "Mean squared error: 0.9487\n"
     ]
    }
   ],
   "source": [
    "# Evaluate training MSE\n",
    "pred = model.predict(X)\n",
    "mse = np.mean((y - pred) ** 2)\n",
    "print(f'Mean squared error: {mse:.4f}')"
   ]
  },
  {
   "cell_type": "code",
   "execution_count": 9,
   "id": "a1a92c62",
   "metadata": {},
   "outputs": [
    {
     "name": "stdout",
     "output_type": "stream",
     "text": [
      "Prediction before update: 1.535196677899395\n",
      "Prediction after update : 1.5388026971752407\n"
     ]
    }
   ],
   "source": [
    "# --- Incremental learning example (fit_one) ---\n",
    "x_new = np.random.randn(5)\n",
    "y_new = x_new @ true_coef + np.random.randn() * 0.5\n",
    "print('Prediction before update:', model.predict([x_new])[0])\n",
    "model.fit_one(x_new, y_new)\n",
    "print('Prediction after update :', model.predict([x_new])[0])"
   ]
  },
  {
   "cell_type": "code",
   "execution_count": 10,
   "id": "9fad977a",
   "metadata": {},
   "outputs": [
    {
     "name": "stdout",
     "output_type": "stream",
     "text": [
      "Prediction after decrement: -0.24617684436838352\n"
     ]
    }
   ],
   "source": [
    "# --- Decremental learning example ---\n",
    "residual = y_new - model.predict([x_new])[0]\n",
    "model.decrement(x_new, residual)\n",
    "print('Prediction after decrement:', model.predict([x_new])[0])"
   ]
  },
  {
   "cell_type": "code",
   "execution_count": 11,
   "id": "85564c05",
   "metadata": {},
   "outputs": [
    {
     "data": {
      "image/png": "[encoded data removed]",
      "text/plain": [
       "<Figure size 500x500 with 1 Axes>"
      ]
     },
     "metadata": {},
     "output_type": "display_data"
    }
   ],
   "source": [
    "# Visualise predictions vs. ground truth\n",
    "plt.figure(figsize=(5,5))\n",
    "plt.scatter(y, pred, alpha=0.6)\n",
    "plt.plot([y.min(), y.max()], [y.min(), y.max()])\n",
    "plt.xlabel('True')\n",
    "plt.ylabel('Predicted')\n",
    "plt.title('OnlineGBDT predictions')\n",
    "plt.show()"
   ]
  }
 ],
 "metadata": {
  "kernelspec": {
   "display_name": ".venv",
   "language": "python",
   "name": "python3"
  },
  "language_info": {
   "codemirror_mode": {
    "name": "ipython",
    "version": 3
   },
   "file_extension": ".py",
   "mimetype": "text/x-python",
   "name": "python",
   "nbconvert_exporter": "python",
   "pygments_lexer": "ipython3",
   "version": "3.10.12"
  }
 },
 "nbformat": 4,
 "nbformat_minor": 5
}
